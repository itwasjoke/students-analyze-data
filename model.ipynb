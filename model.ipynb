{
 "cells": [
  {
   "cell_type": "code",
   "execution_count": 38,
   "id": "8944dd71-4e7f-47f4-9464-6fcbb2ab957b",
   "metadata": {},
   "outputs": [],
   "source": [
    "import pandas as pd\n",
    "import numpy as np\n",
    "from joblib import dump\n",
    "from sklearn.model_selection import train_test_split\n",
    "from sklearn.metrics import mean_squared_error, r2_score\n",
    "from sklearn.ensemble import RandomForestRegressor\n",
    "from sklearn.preprocessing import LabelEncoder, StandardScaler"
   ]
  },
  {
   "cell_type": "code",
   "execution_count": 39,
   "id": "f70f3c80-d864-4489-8bc3-f38c6865e8ce",
   "metadata": {},
   "outputs": [
    {
     "data": {
      "text/html": [
       "<div>\n",
       "<style scoped>\n",
       "    .dataframe tbody tr th:only-of-type {\n",
       "        vertical-align: middle;\n",
       "    }\n",
       "\n",
       "    .dataframe tbody tr th {\n",
       "        vertical-align: top;\n",
       "    }\n",
       "\n",
       "    .dataframe thead th {\n",
       "        text-align: right;\n",
       "    }\n",
       "</style>\n",
       "<table border=\"1\" class=\"dataframe\">\n",
       "  <thead>\n",
       "    <tr style=\"text-align: right;\">\n",
       "      <th></th>\n",
       "      <th>Work_Hours</th>\n",
       "      <th>Job_Type</th>\n",
       "      <th>Sleep_Hours</th>\n",
       "      <th>Study_Hours</th>\n",
       "      <th>Work_Life_Balance</th>\n",
       "      <th>Stress_Level</th>\n",
       "      <th>Academic_Performance</th>\n",
       "      <th>Social_Activity</th>\n",
       "      <th>Job_Satisfaction</th>\n",
       "    </tr>\n",
       "  </thead>\n",
       "  <tbody>\n",
       "    <tr>\n",
       "      <th>0</th>\n",
       "      <td>28</td>\n",
       "      <td>Retail Assistant</td>\n",
       "      <td>5</td>\n",
       "      <td>25</td>\n",
       "      <td>9</td>\n",
       "      <td>2</td>\n",
       "      <td>3.30</td>\n",
       "      <td>14</td>\n",
       "      <td>6</td>\n",
       "    </tr>\n",
       "    <tr>\n",
       "      <th>1</th>\n",
       "      <td>40</td>\n",
       "      <td>Research Assistant</td>\n",
       "      <td>9</td>\n",
       "      <td>21</td>\n",
       "      <td>7</td>\n",
       "      <td>7</td>\n",
       "      <td>2.88</td>\n",
       "      <td>5</td>\n",
       "      <td>9</td>\n",
       "    </tr>\n",
       "    <tr>\n",
       "      <th>2</th>\n",
       "      <td>18</td>\n",
       "      <td>Retail Assistant</td>\n",
       "      <td>6</td>\n",
       "      <td>23</td>\n",
       "      <td>7</td>\n",
       "      <td>4</td>\n",
       "      <td>3.44</td>\n",
       "      <td>5</td>\n",
       "      <td>9</td>\n",
       "    </tr>\n",
       "    <tr>\n",
       "      <th>3</th>\n",
       "      <td>11</td>\n",
       "      <td>Tutor</td>\n",
       "      <td>9</td>\n",
       "      <td>12</td>\n",
       "      <td>6</td>\n",
       "      <td>2</td>\n",
       "      <td>3.26</td>\n",
       "      <td>6</td>\n",
       "      <td>10</td>\n",
       "    </tr>\n",
       "    <tr>\n",
       "      <th>4</th>\n",
       "      <td>13</td>\n",
       "      <td>Freelancer</td>\n",
       "      <td>6</td>\n",
       "      <td>9</td>\n",
       "      <td>3</td>\n",
       "      <td>6</td>\n",
       "      <td>2.30</td>\n",
       "      <td>6</td>\n",
       "      <td>2</td>\n",
       "    </tr>\n",
       "  </tbody>\n",
       "</table>\n",
       "</div>"
      ],
      "text/plain": [
       "   Work_Hours            Job_Type  Sleep_Hours  Study_Hours  \\\n",
       "0          28    Retail Assistant            5           25   \n",
       "1          40  Research Assistant            9           21   \n",
       "2          18    Retail Assistant            6           23   \n",
       "3          11               Tutor            9           12   \n",
       "4          13          Freelancer            6            9   \n",
       "\n",
       "   Work_Life_Balance  Stress_Level  Academic_Performance  Social_Activity  \\\n",
       "0                  9             2                  3.30               14   \n",
       "1                  7             7                  2.88                5   \n",
       "2                  7             4                  3.44                5   \n",
       "3                  6             2                  3.26                6   \n",
       "4                  3             6                  2.30                6   \n",
       "\n",
       "   Job_Satisfaction  \n",
       "0                 6  \n",
       "1                 9  \n",
       "2                 9  \n",
       "3                10  \n",
       "4                 2  "
      ]
     },
     "execution_count": 39,
     "metadata": {},
     "output_type": "execute_result"
    }
   ],
   "source": [
    "# Получение данных\n",
    "try:\n",
    "    df = pd.read_csv(\"student_part_time_job_impact.csv\")\n",
    "except FileNotFoundError:\n",
    "    print(f\"Error. File not found\")\n",
    "\n",
    "# Удаление столбцов\n",
    "df = df.drop([\"Student_ID\", \"Date\"], axis=1, errors=\"ignore\")\n",
    "df.head()"
   ]
  },
  {
   "cell_type": "code",
   "execution_count": 40,
   "id": "89799c0d-c6d6-44f3-8ac0-ee4af1aa73e8",
   "metadata": {},
   "outputs": [
    {
     "data": {
      "text/plain": [
       "['label_encoder.joblib']"
      ]
     },
     "execution_count": 40,
     "metadata": {},
     "output_type": "execute_result"
    }
   ],
   "source": [
    "# Преобразование типа работы в числовые значения\n",
    "le = LabelEncoder()\n",
    "df['Job_Type']=le.fit_transform(df['Job_Type'])\n",
    "dump(le, \"label_encoder.joblib\")"
   ]
  },
  {
   "cell_type": "code",
   "execution_count": 41,
   "id": "99193bb8-489b-43f9-904e-c5887a0c433d",
   "metadata": {},
   "outputs": [
    {
     "name": "stdout",
     "output_type": "stream",
     "text": [
      "Пустых полей нет\n"
     ]
    }
   ],
   "source": [
    "# Проверка на пустые поля\n",
    "columns_with_missing_values = [col for col in df.columns if df[col].isnull().any()]\n",
    "if len(columns_with_missing_values)==0:\n",
    "    print(\"Пустых полей нет\")\n",
    "else:\n",
    "    print(\"Есть пустые поля\")"
   ]
  },
  {
   "cell_type": "code",
   "execution_count": 42,
   "id": "d1d01764-30e5-477a-8bff-296821dc5d99",
   "metadata": {},
   "outputs": [
    {
     "data": {
      "text/plain": [
       "'\\n?\\nРазделение данных на тестовые и обучаемые.\\n0.2 - 20% данных на тестирование, остальное - для обучения\\n42 - число для рандомайзера, который будет случайно выбирать данные и делить их на эти две категории.\\nНужно оно для того, чтобы при каждом запуске данные были одни и те же.\\n'"
      ]
     },
     "execution_count": 42,
     "metadata": {},
     "output_type": "execute_result"
    }
   ],
   "source": [
    "# Разделение на признаки и целевую переменную\n",
    "X = df.drop(\"Work_Life_Balance\", axis=1)\n",
    "y = df[\"Work_Life_Balance\"]\n",
    "\"\"\"\n",
    "?\n",
    "X - набор данных, который будет использоваться для прогнозирования\n",
    "y - то, что мы хотим предсказать с помощью модели машинного обучения\n",
    "\"\"\"\n",
    "\n",
    "# Масштабирование данных\n",
    "scaler = StandardScaler()\n",
    "X = scaler.fit_transform(X)\n",
    "dump(scaler, \"scaler.joblib\")\n",
    "\"\"\"\n",
    "?\n",
    "Предотвращение доминирования признаков с большим диапазоном: \n",
    "Если один признак имеет диапазон значений от 0 до 1000, \n",
    "а другой - от 0 до 1, то первый признак может доминировать над вторым при обучении модели,\n",
    "даже если второй признак на самом деле более важен для прогнозирования.\n",
    "Масштабирование приводит все признаки к одному масштабу, предотвращая такое доминирование.\n",
    "\"\"\"\n",
    "\n",
    "# Обучащющая и тестовая выборка\n",
    "X_train, X_test, y_train, y_test = train_test_split(X, y, test_size=0.2, random_state=42)\n",
    "\"\"\"\n",
    "?\n",
    "Разделение данных на тестовые и обучаемые.\n",
    "0.2 - 20% данных на тестирование, остальное - для обучения\n",
    "42 - число для рандомайзера, который будет случайно выбирать данные и делить их на эти две категории.\n",
    "Нужно оно для того, чтобы при каждом запуске данные были одни и те же.\n",
    "\"\"\""
   ]
  },
  {
   "cell_type": "code",
   "execution_count": 43,
   "id": "eac08158-2ace-441a-adbd-555dfd333dea",
   "metadata": {},
   "outputs": [
    {
     "name": "stdout",
     "output_type": "stream",
     "text": [
      "Mean Squared Error (MSE): 9.165989999999999\n",
      "Отклонение: 3.027538604213\n",
      "R-squared (R2): -0.11276905707105644\n"
     ]
    },
    {
     "data": {
      "text/plain": [
       "['work_life_balance_model.pkl']"
      ]
     },
     "execution_count": 43,
     "metadata": {},
     "output_type": "execute_result"
    }
   ],
   "source": [
    "# Обучение модели\n",
    "model = RandomForestRegressor(n_estimators=100, random_state=42)\n",
    "\"\"\"\n",
    "?\n",
    "Создает деревья, на которых будет происходить обучение. Они будут рандомно заполяться данными.\n",
    "Прогнозирование как раз происходит по каждому из деревьев, а итог - среднее из всех предсказаний.\n",
    "n_estimators=100 - количество деревьев\n",
    "\"\"\"\n",
    "\n",
    "model.fit(X_train, y_train)\n",
    "\"\"\"\n",
    "?\n",
    "Происходит обучение и распределение данных по деревьям.\n",
    "Находит оптимальные параметры для этого, чтобы не было ошибок в предсказании.\n",
    "\"\"\"\n",
    "\n",
    "# Оценка модели\n",
    "y_pred = model.predict(X_test)\n",
    "mse = mean_squared_error(y_test, y_pred)\n",
    "r2 = r2_score(y_test, y_pred)\n",
    "\"\"\"\n",
    "?\n",
    "y_pred - тестирование модели, создание прогноза по данным X_test\n",
    "mse - смотрит среднее квадратичное, насколько отклоняются результаты от истинных.\n",
    "R2 - это мера того, насколько хорошо модель объясняет вариацию целевой переменной. \n",
    "R2 принимает значения от 0 до 1. Значение 1 означает, что модель идеально предсказывает целевую переменную.\n",
    "Значение 0 означает, что модель не лучше, чем простое предсказание среднего значения целевой переменной.\n",
    "В некоторых случаях R2 может быть отрицательным, что означает, что модель работает очень плохо.\n",
    "\"\"\"\n",
    "\n",
    "print(f\"Mean Squared Error (MSE): {mse}\")\n",
    "print(f\"Отклонение: {np.sqrt(mse)}\")\n",
    "print(f\"R-squared (R2): {r2}\")\n",
    "\n",
    "dump(model, 'work_life_balance_model.pkl')"
   ]
  },
  {
   "cell_type": "code",
   "execution_count": 44,
   "id": "4c7d4451-436d-45bb-9a13-a15d06e2aa5d",
   "metadata": {},
   "outputs": [
    {
     "data": {
      "text/plain": [
       "<Axes: >"
      ]
     },
     "execution_count": 44,
     "metadata": {},
     "output_type": "execute_result"
    },
    {
     "data": {
      "image/png": "[encoded data removed]",
      "text/plain": [
       "<Figure size 640x480 with 1 Axes>"
      ]
     },
     "metadata": {},
     "output_type": "display_data"
    }
   ],
   "source": [
    "y.hist()"
   ]
  },
  {
   "cell_type": "code",
   "execution_count": null,
   "id": "61716576-7b4b-416b-a3c9-f34934efaa7e",
   "metadata": {},
   "outputs": [],
   "source": []
  }
 ],
 "metadata": {
  "kernelspec": {
   "display_name": "Python 3 (ipykernel)",
   "language": "python",
   "name": "python3"
  },
  "language_info": {
   "codemirror_mode": {
    "name": "ipython",
    "version": 3
   },
   "file_extension": ".py",
   "mimetype": "text/x-python",
   "name": "python",
   "nbconvert_exporter": "python",
   "pygments_lexer": "ipython3",
   "version": "3.12.6"
  }
 },
 "nbformat": 4,
 "nbformat_minor": 5
}
